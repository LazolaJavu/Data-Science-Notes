{
 "cells": [
  {
   "cell_type": "code",
   "execution_count": 1,
   "id": "807432ed",
   "metadata": {
    "ExecuteTime": {
     "end_time": "2023-02-16T07:51:35.455728Z",
     "start_time": "2023-02-16T07:51:34.182813Z"
    }
   },
   "outputs": [],
   "source": [
    "import pandas as pd\n",
    "import seaborn as sns\n",
    "import matplotlib.pyplot as plt"
   ]
  },
  {
   "cell_type": "code",
   "execution_count": 2,
   "id": "a3584689",
   "metadata": {
    "ExecuteTime": {
     "end_time": "2023-02-16T07:51:36.424857Z",
     "start_time": "2023-02-16T07:51:35.456738Z"
    }
   },
   "outputs": [
    {
     "name": "stderr",
     "output_type": "stream",
     "text": [
      "C:\\Users\\LazolaJavu\\anaconda3\\envs\\py38\\lib\\site-packages\\openpyxl\\worksheet\\_read_only.py:79: UserWarning: Data Validation extension is not supported and will be removed\n",
      "  for idx, row in parser.parse():\n"
     ]
    }
   ],
   "source": [
    "data = pd.read_excel(r'Franchisees by Fees - 16.02.2023.xlsx', sheet_name = 'Sheet1')"
   ]
  },
  {
   "cell_type": "code",
   "execution_count": 3,
   "id": "84de527f",
   "metadata": {
    "ExecuteTime": {
     "end_time": "2023-02-16T07:51:36.456320Z",
     "start_time": "2023-02-16T07:51:36.426859Z"
    }
   },
   "outputs": [
    {
     "data": {
      "text/html": [
       "<div>\n",
       "<style scoped>\n",
       "    .dataframe tbody tr th:only-of-type {\n",
       "        vertical-align: middle;\n",
       "    }\n",
       "\n",
       "    .dataframe tbody tr th {\n",
       "        vertical-align: top;\n",
       "    }\n",
       "\n",
       "    .dataframe thead th {\n",
       "        text-align: right;\n",
       "    }\n",
       "</style>\n",
       "<table border=\"1\" class=\"dataframe\">\n",
       "  <thead>\n",
       "    <tr style=\"text-align: right;\">\n",
       "      <th></th>\n",
       "      <th>Full Name</th>\n",
       "      <th>Franchisor</th>\n",
       "      <th>Stipend Type</th>\n",
       "      <th>ID Number</th>\n",
       "      <th>Monthly Stipend Amount</th>\n",
       "      <th>Stipend Amount (Base)</th>\n",
       "      <th>Parent fees</th>\n",
       "      <th>Children</th>\n",
       "      <th>Number of Children:</th>\n",
       "      <th>Total amount</th>\n",
       "      <th>Province</th>\n",
       "    </tr>\n",
       "  </thead>\n",
       "  <tbody>\n",
       "    <tr>\n",
       "      <th>0</th>\n",
       "      <td>Edwick Tshili</td>\n",
       "      <td>GP Branch</td>\n",
       "      <td>ECD</td>\n",
       "      <td>EN282731</td>\n",
       "      <td>0.0</td>\n",
       "      <td>0.0</td>\n",
       "      <td>800</td>\n",
       "      <td>NaN</td>\n",
       "      <td>3</td>\n",
       "      <td>2400</td>\n",
       "      <td>Gauteng</td>\n",
       "    </tr>\n",
       "    <tr>\n",
       "      <th>1</th>\n",
       "      <td>Gladys Marova</td>\n",
       "      <td>GP Branch</td>\n",
       "      <td>FEMEF</td>\n",
       "      <td>EN228564</td>\n",
       "      <td>0.0</td>\n",
       "      <td>0.0</td>\n",
       "      <td>800</td>\n",
       "      <td>NaN</td>\n",
       "      <td>3</td>\n",
       "      <td>2400</td>\n",
       "      <td>Gauteng</td>\n",
       "    </tr>\n",
       "    <tr>\n",
       "      <th>2</th>\n",
       "      <td>Audrey Filicity Reyneke</td>\n",
       "      <td>GP Branch</td>\n",
       "      <td>FEMEF</td>\n",
       "      <td>6908280482082</td>\n",
       "      <td>500.0</td>\n",
       "      <td>500.0</td>\n",
       "      <td>800</td>\n",
       "      <td>NaN</td>\n",
       "      <td>11</td>\n",
       "      <td>9300</td>\n",
       "      <td>Gauteng</td>\n",
       "    </tr>\n",
       "    <tr>\n",
       "      <th>3</th>\n",
       "      <td>Richeda Blanket</td>\n",
       "      <td>LIMA</td>\n",
       "      <td>Jobs Fund</td>\n",
       "      <td>8003130171081</td>\n",
       "      <td>500.0</td>\n",
       "      <td>500.0</td>\n",
       "      <td>800</td>\n",
       "      <td>NaN</td>\n",
       "      <td>6</td>\n",
       "      <td>5300</td>\n",
       "      <td>Gauteng</td>\n",
       "    </tr>\n",
       "    <tr>\n",
       "      <th>4</th>\n",
       "      <td>Matshidiso Peetja</td>\n",
       "      <td>GP Branch</td>\n",
       "      <td>Jobs Fund</td>\n",
       "      <td>8108040946082</td>\n",
       "      <td>500.0</td>\n",
       "      <td>500.0</td>\n",
       "      <td>800</td>\n",
       "      <td>NaN</td>\n",
       "      <td>5</td>\n",
       "      <td>4500</td>\n",
       "      <td>Gauteng</td>\n",
       "    </tr>\n",
       "    <tr>\n",
       "      <th>...</th>\n",
       "      <td>...</td>\n",
       "      <td>...</td>\n",
       "      <td>...</td>\n",
       "      <td>...</td>\n",
       "      <td>...</td>\n",
       "      <td>...</td>\n",
       "      <td>...</td>\n",
       "      <td>...</td>\n",
       "      <td>...</td>\n",
       "      <td>...</td>\n",
       "      <td>...</td>\n",
       "    </tr>\n",
       "    <tr>\n",
       "      <th>2342</th>\n",
       "      <td>Shalate Mithileni</td>\n",
       "      <td>ELRU-NW</td>\n",
       "      <td>CWP</td>\n",
       "      <td>7010130535083</td>\n",
       "      <td>780.0</td>\n",
       "      <td>780.0</td>\n",
       "      <td>7</td>\n",
       "      <td>NaN</td>\n",
       "      <td>20</td>\n",
       "      <td>920</td>\n",
       "      <td>North West</td>\n",
       "    </tr>\n",
       "    <tr>\n",
       "      <th>2343</th>\n",
       "      <td>Anna Ouma Makwela</td>\n",
       "      <td>ELRU-NW</td>\n",
       "      <td>CWP</td>\n",
       "      <td>7509191015083</td>\n",
       "      <td>780.0</td>\n",
       "      <td>780.0</td>\n",
       "      <td>7</td>\n",
       "      <td>NaN</td>\n",
       "      <td>14</td>\n",
       "      <td>878</td>\n",
       "      <td>North West</td>\n",
       "    </tr>\n",
       "    <tr>\n",
       "      <th>2344</th>\n",
       "      <td>Andronika Musibudi Motau</td>\n",
       "      <td>ELRU-NW</td>\n",
       "      <td>CWP</td>\n",
       "      <td>6206061364086</td>\n",
       "      <td>780.0</td>\n",
       "      <td>780.0</td>\n",
       "      <td>7</td>\n",
       "      <td>NaN</td>\n",
       "      <td>8</td>\n",
       "      <td>836</td>\n",
       "      <td>North West</td>\n",
       "    </tr>\n",
       "    <tr>\n",
       "      <th>2345</th>\n",
       "      <td>Merriam Mogajane</td>\n",
       "      <td>ELRU-NW</td>\n",
       "      <td>CWP</td>\n",
       "      <td>8106070867087</td>\n",
       "      <td>780.0</td>\n",
       "      <td>780.0</td>\n",
       "      <td>7</td>\n",
       "      <td>NaN</td>\n",
       "      <td>3</td>\n",
       "      <td>801</td>\n",
       "      <td>North West</td>\n",
       "    </tr>\n",
       "    <tr>\n",
       "      <th>2346</th>\n",
       "      <td>Georginah Mokhari</td>\n",
       "      <td>ELRU-NW</td>\n",
       "      <td>CWP</td>\n",
       "      <td>8911110551082</td>\n",
       "      <td>780.0</td>\n",
       "      <td>780.0</td>\n",
       "      <td>7</td>\n",
       "      <td>NaN</td>\n",
       "      <td>1</td>\n",
       "      <td>787</td>\n",
       "      <td>North West</td>\n",
       "    </tr>\n",
       "  </tbody>\n",
       "</table>\n",
       "<p>2347 rows × 11 columns</p>\n",
       "</div>"
      ],
      "text/plain": [
       "                      Full Name Franchisor Stipend Type      ID Number  \\\n",
       "0                Edwick Tshili   GP Branch          ECD       EN282731   \n",
       "1                Gladys Marova   GP Branch        FEMEF       EN228564   \n",
       "2      Audrey Filicity Reyneke   GP Branch        FEMEF  6908280482082   \n",
       "3              Richeda Blanket        LIMA    Jobs Fund  8003130171081   \n",
       "4            Matshidiso Peetja   GP Branch    Jobs Fund  8108040946082   \n",
       "...                         ...        ...          ...            ...   \n",
       "2342         Shalate Mithileni     ELRU-NW          CWP  7010130535083   \n",
       "2343         Anna Ouma Makwela     ELRU-NW          CWP  7509191015083   \n",
       "2344  Andronika Musibudi Motau     ELRU-NW          CWP  6206061364086   \n",
       "2345          Merriam Mogajane     ELRU-NW          CWP  8106070867087   \n",
       "2346         Georginah Mokhari     ELRU-NW          CWP  8911110551082   \n",
       "\n",
       "      Monthly Stipend Amount  Stipend Amount (Base)  Parent fees  Children  \\\n",
       "0                        0.0                    0.0          800       NaN   \n",
       "1                        0.0                    0.0          800       NaN   \n",
       "2                      500.0                  500.0          800       NaN   \n",
       "3                      500.0                  500.0          800       NaN   \n",
       "4                      500.0                  500.0          800       NaN   \n",
       "...                      ...                    ...          ...       ...   \n",
       "2342                   780.0                  780.0            7       NaN   \n",
       "2343                   780.0                  780.0            7       NaN   \n",
       "2344                   780.0                  780.0            7       NaN   \n",
       "2345                   780.0                  780.0            7       NaN   \n",
       "2346                   780.0                  780.0            7       NaN   \n",
       "\n",
       "      Number of Children:  Total amount    Province  \n",
       "0                       3          2400     Gauteng  \n",
       "1                       3          2400     Gauteng  \n",
       "2                      11          9300     Gauteng  \n",
       "3                       6          5300     Gauteng  \n",
       "4                       5          4500     Gauteng  \n",
       "...                   ...           ...         ...  \n",
       "2342                   20           920  North West  \n",
       "2343                   14           878  North West  \n",
       "2344                    8           836  North West  \n",
       "2345                    3           801  North West  \n",
       "2346                    1           787  North West  \n",
       "\n",
       "[2347 rows x 11 columns]"
      ]
     },
     "execution_count": 3,
     "metadata": {},
     "output_type": "execute_result"
    }
   ],
   "source": [
    "data"
   ]
  },
  {
   "cell_type": "code",
   "execution_count": 4,
   "id": "1de6b5ea",
   "metadata": {
    "ExecuteTime": {
     "end_time": "2023-02-16T07:51:36.471541Z",
     "start_time": "2023-02-16T07:51:36.459257Z"
    }
   },
   "outputs": [
    {
     "data": {
      "text/plain": [
       "Index(['Full Name', 'Franchisor', 'Stipend Type', 'ID Number',\n",
       "       'Monthly Stipend Amount', 'Stipend Amount (Base)', 'Parent fees',\n",
       "       'Children', 'Number of Children:', 'Total amount', 'Province'],\n",
       "      dtype='object')"
      ]
     },
     "execution_count": 4,
     "metadata": {},
     "output_type": "execute_result"
    }
   ],
   "source": [
    "data.columns"
   ]
  },
  {
   "cell_type": "code",
   "execution_count": 12,
   "id": "788abfe8",
   "metadata": {
    "ExecuteTime": {
     "end_time": "2023-02-16T08:27:06.397705Z",
     "start_time": "2023-02-16T08:27:05.950550Z"
    }
   },
   "outputs": [
    {
     "data": {
      "text/plain": [
       "Text(0.5, 9.444444444444459, 'Parent fees (Rands)')"
      ]
     },
     "execution_count": 12,
     "metadata": {},
     "output_type": "execute_result"
    },
    {
     "data": {
      "text/plain": [
       "<Figure size 1500x400 with 0 Axes>"
      ]
     },
     "metadata": {},
     "output_type": "display_data"
    },
    {
     "data": {
      "image/png": "[encoded data removed]",
      "text/plain": [
       "<Figure size 1080x400 with 1 Axes>"
      ]
     },
     "metadata": {},
     "output_type": "display_data"
    }
   ],
   "source": [
    "# plot a distribution curve\n",
    "plt.figure(figsize=(15,4))\n",
    "sns.displot(data, x=\"Parent fees\", height=4, aspect=2.7)\n",
    "plt.title('Distribution Plot of Parents Fees')\n",
    "plt.ylabel('Franchisee Count')\n",
    "plt.xlabel('Parent fees (Rands)')\n",
    "\n"
   ]
  },
  {
   "cell_type": "code",
   "execution_count": null,
   "id": "52aca663",
   "metadata": {},
   "outputs": [],
   "source": []
  },
  {
   "cell_type": "code",
   "execution_count": null,
   "id": "e102d98a",
   "metadata": {},
   "outputs": [],
   "source": []
  }
 ],
 "metadata": {
  "kernelspec": {
   "display_name": "Python 3 (ipykernel)",
   "language": "python",
   "name": "python3"
  },
  "language_info": {
   "codemirror_mode": {
    "name": "ipython",
    "version": 3
   },
   "file_extension": ".py",
   "mimetype": "text/x-python",
   "name": "python",
   "nbconvert_exporter": "python",
   "pygments_lexer": "ipython3",
   "version": "3.8.16"
  }
 },
 "nbformat": 4,
 "nbformat_minor": 5
}
