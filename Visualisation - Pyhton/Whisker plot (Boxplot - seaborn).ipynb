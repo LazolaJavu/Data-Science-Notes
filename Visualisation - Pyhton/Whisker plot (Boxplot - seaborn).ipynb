{
 "cells": [
  {
   "cell_type": "code",
   "execution_count": 1,
   "id": "b34171e5",
   "metadata": {
    "ExecuteTime": {
     "end_time": "2023-01-25T11:51:24.585922Z",
     "start_time": "2023-01-25T11:51:23.136466Z"
    }
   },
   "outputs": [],
   "source": [
    "# Import the packages \n",
    "import pandas as pd\n",
    "import matplotlib.pyplot as plt\n",
    "import seaborn as sns"
   ]
  },
  {
   "cell_type": "code",
   "execution_count": 2,
   "id": "13039d3e",
   "metadata": {
    "ExecuteTime": {
     "end_time": "2023-01-25T11:51:27.740695Z",
     "start_time": "2023-01-25T11:51:26.117943Z"
    }
   },
   "outputs": [
    {
     "name": "stderr",
     "output_type": "stream",
     "text": [
      "C:\\Users\\LazolaJavu\\anaconda3\\envs\\py38\\lib\\site-packages\\openpyxl\\worksheet\\_read_only.py:79: UserWarning: Data Validation extension is not supported and will be removed\n",
      "  for idx, row in parser.parse():\n"
     ]
    }
   ],
   "source": [
    "# Read the excel spreadsheet into a dataframe\n",
    "data = pd.read_excel(r'_Grail_ - Starter License and SmartSpace Certificates.xlsx', sheet_name='H1')\n"
   ]
  },
  {
   "cell_type": "code",
   "execution_count": 3,
   "id": "96d8c8ae",
   "metadata": {
    "ExecuteTime": {
     "end_time": "2023-01-25T11:51:27.763510Z",
     "start_time": "2023-01-25T11:51:27.746014Z"
    },
    "scrolled": true
   },
   "outputs": [],
   "source": [
    "# # View the dataset\n",
    "# data.head()"
   ]
  },
  {
   "cell_type": "markdown",
   "id": "c2f24963",
   "metadata": {},
   "source": [
    "We will just keep the code below, since this is company data. We won't be showing"
   ]
  },
  {
   "cell_type": "code",
   "execution_count": 4,
   "id": "16556e56",
   "metadata": {
    "ExecuteTime": {
     "end_time": "2023-01-25T11:51:42.333054Z",
     "start_time": "2023-01-25T11:51:42.325135Z"
    },
    "scrolled": false
   },
   "outputs": [],
   "source": [
    "# plt.figure(figsize=(15,8))\n",
    "sns.boxplot(data=data, x=\"Franchisor\", y=\"Time lapse to Convert\", showfliers = False)\n",
    "sns.set(rc={'figure.figsize':(15,8)}, font_scale=1.5, style='whitegrid')\n",
    "# plt.legend(bbox_to_anchor=(1.02, 1), loc='upper left', borderaxespad=0)\n",
    "plt.xticks(rotation=70)\n",
    "plt.ylabel('Time to Convert a Franchisee')\n",
    "plt.title('Franchisor')\n"
   ]
  },
  {
   "cell_type": "code",
   "execution_count": 5,
   "id": "b55986cd",
   "metadata": {
    "ExecuteTime": {
     "end_time": "2023-01-25T11:51:48.624815Z",
     "start_time": "2023-01-25T11:51:48.597871Z"
    },
    "scrolled": false
   },
   "outputs": [],
   "source": [
    "plt.figure(figsize=(15,8))\n",
    "sns.boxplot(data=data, x=\"Franchisor\", y=\"Time lapse to Convert\", hue=\"Franchisor\", flierprops = dict(markerfacecolor = '0.50', markersize = 2)\n",
    ")\n",
    "sns.set(rc={'figure.figsize':(15,8)}, font_scale=1.5, style='whitegrid')\n",
    "plt.legend(bbox_to_anchor=(1.02, 1), loc='upper left', borderaxespad=0)\n",
    "plt.xticks(rotation=70)"
   ]
  },
  {
   "cell_type": "markdown",
   "id": "be39fa27",
   "metadata": {},
   "source": [
    "### Months Taking to Convert"
   ]
  },
  {
   "cell_type": "code",
   "execution_count": 6,
   "id": "21d34002",
   "metadata": {
    "ExecuteTime": {
     "end_time": "2023-01-25T11:51:57.594443Z",
     "start_time": "2023-01-25T11:51:57.581777Z"
    },
    "scrolled": true
   },
   "outputs": [],
   "source": [
    "# plt.figure(figsize=(15,8))\n",
    "# Remove the outliers to view the whisker plot clearly, using showlfliers.\n",
    "sns.boxplot(data=data, x=\"Franchisor\", y='Months to Convert', showfliers = False)\n",
    "sns.set(rc={'figure.figsize':(15,8)}, font_scale=1, style='whitegrid')\n",
    "# plt.legend(bbox_to_anchor=(1.02, 1), loc='upper left', borderaxespad=0)\n",
    "plt.xticks(rotation=70)\n",
    "plt.ylabel('Months to Convert a Franchisee')\n",
    "plt.title('Franchisor Converting Franchisees by Month(s) it Takes')"
   ]
  },
  {
   "cell_type": "code",
   "execution_count": 7,
   "id": "cdeef9b3",
   "metadata": {
    "ExecuteTime": {
     "end_time": "2023-01-25T11:52:04.645141Z",
     "start_time": "2023-01-25T11:52:04.626911Z"
    }
   },
   "outputs": [],
   "source": [
    "# Use a boxplot to show the descriptive stats of the different categories\n",
    "sns.boxplot(data=data, x=\"Franchisor\", y='Months to Convert') # We can use hue\n",
    "# Change the size of the plot and also the size of the font of the labels\n",
    "sns.set(rc={'figure.figsize':(15,8)}, font_scale=1, style='whitegrid')\n",
    "# Take the legend outside the figure\n",
    "plt.legend(bbox_to_anchor=(1.02, 1), loc='upper left', borderaxespad=0)\n",
    "# Rotate the axis\n",
    "plt.xticks(rotation=70)\n",
    "# Label the y axis\n",
    "plt.ylabel('Months to Convert a Franchisee')\n",
    "# Give a title to the plot\n",
    "plt.title('Franchisor Converting Franchisees by Month(s) it Takes')"
   ]
  }
 ],
 "metadata": {
  "kernelspec": {
   "display_name": "Python 3 (ipykernel)",
   "language": "python",
   "name": "python3"
  },
  "language_info": {
   "codemirror_mode": {
    "name": "ipython",
    "version": 3
   },
   "file_extension": ".py",
   "mimetype": "text/x-python",
   "name": "python",
   "nbconvert_exporter": "python",
   "pygments_lexer": "ipython3",
   "version": "3.8.16"
  }
 },
 "nbformat": 4,
 "nbformat_minor": 5
}
